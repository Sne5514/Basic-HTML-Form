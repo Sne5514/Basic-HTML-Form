{
  "nbformat": 4,
  "nbformat_minor": 0,
  "metadata": {
    "colab": {
      "provenance": []
    },
    "kernelspec": {
      "name": "python3",
      "display_name": "Python 3"
    },
    "language_info": {
      "name": "python"
    }
  },
  "cells": [
    {
      "cell_type": "markdown",
      "source": [
        "# Basic HTML Form"
      ],
      "metadata": {
        "id": "VyNwH00OlzL5"
      }
    },
    {
      "cell_type": "markdown",
      "source": [
        "***This HTML form collects user personal information such as username and password with a button to submit the form.***"
      ],
      "metadata": {
        "id": "uW6XJ253l73p"
      }
    },
    {
      "cell_type": "markdown",
      "source": [
        "\n",
        "\n",
        "```\n",
        "<!DOCTYPE html>\n",
        "<html lang=\"en\">\n",
        "\n",
        "<head>\n",
        "    <title>Html Forms</title>\n",
        "</head>\n",
        "\n",
        "<body>\n",
        "    <h2>HTML Forms</h2>\n",
        "    <form>\n",
        "        <label for=\"username\">Username:</label><br>\n",
        "        <input type=\"text\" id=\"username\" name=\"username\"><br><br>\n",
        "\n",
        "        <label for=\"password\">Password:</label><br>\n",
        "        <input type=\"password\" id=\"password\" name=\"password\"><br><br>\n",
        "\n",
        "        <input type=\"submit\" value=\"Submit\">\n",
        "    </form>\n",
        "</body>\n",
        "\n",
        "</html>\n",
        "\n",
        "\n",
        "```\n",
        "\n"
      ],
      "metadata": {
        "id": "F36t4GsnpX_h"
      }
    }
  ]
}